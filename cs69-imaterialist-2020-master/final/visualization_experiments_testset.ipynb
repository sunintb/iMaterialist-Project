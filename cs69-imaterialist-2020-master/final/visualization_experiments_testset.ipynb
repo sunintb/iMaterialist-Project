{
 "cells": [
  {
   "cell_type": "markdown",
   "metadata": {},
   "source": [
    "# Visualization of Model Performance on Unseen Test Data.\n",
    "\n",
    "In this analysis, we split the labeled data (`train/` on Kaggle) into training \\& validation (80\\% together), and testing set (20\\%). We performed training and model selection using the 80\\% partition, and applied the model to the remainder of 20\\% data one-image-per-GPU.\n",
    "\n",
    "The results below show the performance on the unseen 20\\% test data. Note that the data splits are **identical**, i.e. a controlled variable. "
   ]
  },
  {
   "cell_type": "code",
   "execution_count": 1,
   "metadata": {
    "_cell_guid": "b1076dfc-b9ad-4769-8c92-a6c4dae69d19",
    "_uuid": "8f2839f25d086af736a60e9eeb907d3b93b6e0e5"
   },
   "outputs": [],
   "source": [
    "import numpy as np \n",
    "import pandas as pd\n",
    "from pathlib import Path\n",
    "import os\n",
    "import warnings\n",
    "import pickle\n",
    "from sklearn import metrics;\n",
    "\n",
    "from matplotlib import pyplot as plt\n",
    "import matplotlib.image as mpimg\n",
    "\n",
    "warnings.filterwarnings(\"ignore\")\n",
    "%matplotlib inline\n",
    "\n",
    "def multicalss_eval(model_path):\n",
    "    test_pred = pd.read_csv(RESULTS_DIR/model_path, index_col=0);\n",
    "    test_pred = test_pred[~test_pred.duplicated(\"ImageId\")];\n",
    "    tmp = test_pred.merge(df_train, on=KEY, how=\"left\"); \n",
    "    return 100 * metrics.accuracy_score(tmp[\"ClassID\"], tmp[\"ClassId\"]); "
   ]
  },
  {
   "cell_type": "code",
   "execution_count": 2,
   "metadata": {
    "_cell_guid": "79c7e3d0-c299-4dcb-8224-4455121ee9b0",
    "_uuid": "d629ff2d2480ee46fbb7e2d37f6b5fab8052498a"
   },
   "outputs": [
    {
     "data": {
      "text/html": [
       "<div>\n",
       "<style scoped>\n",
       "    .dataframe tbody tr th:only-of-type {\n",
       "        vertical-align: middle;\n",
       "    }\n",
       "\n",
       "    .dataframe tbody tr th {\n",
       "        vertical-align: top;\n",
       "    }\n",
       "\n",
       "    .dataframe thead th {\n",
       "        text-align: right;\n",
       "    }\n",
       "</style>\n",
       "<table border=\"1\" class=\"dataframe\">\n",
       "  <thead>\n",
       "    <tr style=\"text-align: right;\">\n",
       "      <th></th>\n",
       "      <th>ImageId</th>\n",
       "      <th>EncodedPixels</th>\n",
       "      <th>Height</th>\n",
       "      <th>Width</th>\n",
       "      <th>ClassId</th>\n",
       "      <th>AttributesIds</th>\n",
       "    </tr>\n",
       "  </thead>\n",
       "  <tbody>\n",
       "    <tr>\n",
       "      <th>0</th>\n",
       "      <td>00000663ed1ff0c4e0132b9b9ac53f6e</td>\n",
       "      <td>6068157 7 6073371 20 6078584 34 6083797 48 608...</td>\n",
       "      <td>5214</td>\n",
       "      <td>3676</td>\n",
       "      <td>6</td>\n",
       "      <td>115,136,143,154,230,295,316,317</td>\n",
       "    </tr>\n",
       "    <tr>\n",
       "      <th>9</th>\n",
       "      <td>0000fe7c9191fba733c8a69cfaf962b7</td>\n",
       "      <td>2201176 1 2203623 3 2206071 5 2208518 8 221096...</td>\n",
       "      <td>2448</td>\n",
       "      <td>2448</td>\n",
       "      <td>33</td>\n",
       "      <td>190</td>\n",
       "    </tr>\n",
       "    <tr>\n",
       "      <th>11</th>\n",
       "      <td>0002ec21ddb8477e98b2cbb87ea2e269</td>\n",
       "      <td>2673735 2 2676734 8 2679734 13 2682733 19 2685...</td>\n",
       "      <td>3000</td>\n",
       "      <td>1997</td>\n",
       "      <td>33</td>\n",
       "      <td>182</td>\n",
       "    </tr>\n",
       "    <tr>\n",
       "      <th>15</th>\n",
       "      <td>0002f5a0ebc162ecfb73e2c91e3b8f62</td>\n",
       "      <td>435 132 1002 132 1569 132 2136 132 2703 132 32...</td>\n",
       "      <td>567</td>\n",
       "      <td>400</td>\n",
       "      <td>10</td>\n",
       "      <td>108,115,119,141,155,229,286,316,317</td>\n",
       "    </tr>\n",
       "    <tr>\n",
       "      <th>18</th>\n",
       "      <td>0004467156e47b0eb6de4aa6479cbd15</td>\n",
       "      <td>132663 8 133396 25 134130 41 134868 53 135611 ...</td>\n",
       "      <td>750</td>\n",
       "      <td>500</td>\n",
       "      <td>10</td>\n",
       "      <td>115,141,155,295,305,317</td>\n",
       "    </tr>\n",
       "  </tbody>\n",
       "</table>\n",
       "</div>"
      ],
      "text/plain": [
       "                             ImageId  \\\n",
       "0   00000663ed1ff0c4e0132b9b9ac53f6e   \n",
       "9   0000fe7c9191fba733c8a69cfaf962b7   \n",
       "11  0002ec21ddb8477e98b2cbb87ea2e269   \n",
       "15  0002f5a0ebc162ecfb73e2c91e3b8f62   \n",
       "18  0004467156e47b0eb6de4aa6479cbd15   \n",
       "\n",
       "                                        EncodedPixels  Height  Width  ClassId  \\\n",
       "0   6068157 7 6073371 20 6078584 34 6083797 48 608...    5214   3676        6   \n",
       "9   2201176 1 2203623 3 2206071 5 2208518 8 221096...    2448   2448       33   \n",
       "11  2673735 2 2676734 8 2679734 13 2682733 19 2685...    3000   1997       33   \n",
       "15  435 132 1002 132 1569 132 2136 132 2703 132 32...     567    400       10   \n",
       "18  132663 8 133396 25 134130 41 134868 53 135611 ...     750    500       10   \n",
       "\n",
       "                          AttributesIds  \n",
       "0       115,136,143,154,230,295,316,317  \n",
       "9                                   190  \n",
       "11                                  182  \n",
       "15  108,115,119,141,155,229,286,316,317  \n",
       "18              115,141,155,295,305,317  "
      ]
     },
     "execution_count": 2,
     "metadata": {},
     "output_type": "execute_result"
    }
   ],
   "source": [
    "## Constants:\n",
    "KEY = \"ImageId\";\n",
    "KAGGLE = False;\n",
    "PREFIX = \"/kaggle/\" if KAGGLE else \"../\";\n",
    "\n",
    "DATA_DIR = Path(PREFIX+'input/imaterialist-fashion-2020-fgvc7/')\n",
    "IMG_DIR = Path(PREFIX+'input/imaterialist-fashion-2020-fgvc7/train/')\n",
    "RESULTS_DIR = Path(PREFIX + 'results/');\n",
    "\n",
    "## Load data:\n",
    "df_train = pd.read_csv(DATA_DIR/'train.csv')\n",
    "df_train = df_train[~df_train.duplicated(\"ImageId\")];\n",
    "df_train.head()"
   ]
  },
  {
   "cell_type": "markdown",
   "metadata": {},
   "source": [
    "## Experiments\n",
    "\n",
    "### Procedures\n",
    "\n",
    "Loaded in order:\n",
    "\n",
    "1. No fine-tuning, ResNet-50 //control or reference or baseline model\n",
    "2. No fine-tuning, ResNet-101\n",
    "3. With fine-tuning, ResNet-50\n",
    "\n",
    "Only 1 experimental variable is introduced at a time. As mentioned, the scores were computed based on performance on a **common test set (n=3200)**"
   ]
  },
  {
   "cell_type": "code",
   "execution_count": 3,
   "metadata": {},
   "outputs": [],
   "source": [
    "NAMES = [\"saved_head_model_scratch_resnet50.csv\",\n",
    "         \"saved_head_model_scratch_resnet101.csv\",\n",
    "         \"saved_head_model_pretrained_resnet50.csv\"];\n",
    "results = []; \n",
    "for name in NAMES:\n",
    "    results.append(multicalss_eval(\"experiments/\"+name))"
   ]
  },
  {
   "cell_type": "code",
   "execution_count": 4,
   "metadata": {},
   "outputs": [
    {
     "data": {
      "text/html": [
       "<div>\n",
       "<style scoped>\n",
       "    .dataframe tbody tr th:only-of-type {\n",
       "        vertical-align: middle;\n",
       "    }\n",
       "\n",
       "    .dataframe tbody tr th {\n",
       "        vertical-align: top;\n",
       "    }\n",
       "\n",
       "    .dataframe thead th {\n",
       "        text-align: right;\n",
       "    }\n",
       "</style>\n",
       "<table border=\"1\" class=\"dataframe\">\n",
       "  <thead>\n",
       "    <tr style=\"text-align: right;\">\n",
       "      <th></th>\n",
       "      <th>Score</th>\n",
       "    </tr>\n",
       "  </thead>\n",
       "  <tbody>\n",
       "    <tr>\n",
       "      <th>saved_head_model_scratch_resnet50.csv</th>\n",
       "      <td>1.00000</td>\n",
       "    </tr>\n",
       "    <tr>\n",
       "      <th>saved_head_model_scratch_resnet101.csv</th>\n",
       "      <td>2.78125</td>\n",
       "    </tr>\n",
       "    <tr>\n",
       "      <th>saved_head_model_pretrained_resnet50.csv</th>\n",
       "      <td>2.28125</td>\n",
       "    </tr>\n",
       "  </tbody>\n",
       "</table>\n",
       "</div>"
      ],
      "text/plain": [
       "                                            Score\n",
       "saved_head_model_scratch_resnet50.csv     1.00000\n",
       "saved_head_model_scratch_resnet101.csv    2.78125\n",
       "saved_head_model_pretrained_resnet50.csv  2.28125"
      ]
     },
     "execution_count": 4,
     "metadata": {},
     "output_type": "execute_result"
    }
   ],
   "source": [
    "pd.DataFrame(results, index=NAMES, columns=[\"Score\"])"
   ]
  },
  {
   "cell_type": "markdown",
   "metadata": {},
   "source": [
    "### Summary\n",
    "\n",
    "Our computational experiments show the following:\n",
    "\n",
    "| Model Name |  Backbone  | Fine-tuned? | Score |\n",
    "|:----------:|:----------:|:-----------:|:-----:|\n",
    "| Control    | ResNet-50  | No          | 1.00  |\n",
    "| Deeper     | ResNet-101 | No          | 2.78  |\n",
    "| Finetuned  | ResNet-50  | Yes         | 2.28  |\n",
    "\n",
    "In general, we conclude:\n",
    "\n",
    "* Fine-tuning with weights is helpful\n",
    "* Deeper architecture as backbone is more suitable for dataset with complexity & diversity as ours"
   ]
  },
  {
   "cell_type": "code",
   "execution_count": null,
   "metadata": {},
   "outputs": [],
   "source": []
  }
 ],
 "metadata": {
  "kernelspec": {
   "display_name": "Python 3",
   "language": "python",
   "name": "python3"
  },
  "language_info": {
   "codemirror_mode": {
    "name": "ipython",
    "version": 3
   },
   "file_extension": ".py",
   "mimetype": "text/x-python",
   "name": "python",
   "nbconvert_exporter": "python",
   "pygments_lexer": "ipython3",
   "version": "3.7.3"
  }
 },
 "nbformat": 4,
 "nbformat_minor": 4
}
